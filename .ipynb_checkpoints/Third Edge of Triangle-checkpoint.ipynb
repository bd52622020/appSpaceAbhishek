{
 "cells": [
  {
   "cell_type": "markdown",
   "metadata": {},
   "source": [
    "#### @Abhishek Mane"
   ]
  },
  {
   "cell_type": "markdown",
   "metadata": {},
   "source": [
    "# SpeedLimit Check"
   ]
  },
  {
   "cell_type": "code",
   "execution_count": 20,
   "metadata": {},
   "outputs": [
    {
     "name": "stdout",
     "output_type": "stream",
     "text": [
      "Enter speed: 85\n",
      "Point: 3\n"
     ]
    }
   ],
   "source": [
    "def speedlimit_check(speed):\n",
    "    if speed <= 70:\n",
    "        return \"OK\"\n",
    "\n",
    "    else:\n",
    "        speed1 = (speed-70)//5\n",
    "\n",
    "        if speed1 <= 12:\n",
    "            return print(f\"Point: [speed1]\")\n",
    "\n",
    "        else:\n",
    "            return print(\"License suspended\")\n",
    "\n",
    "\n",
    "enter = speed_check(int(input(\"Enter speed: \")))\n"
   ]
  },
  {
   "cell_type": "code",
   "execution_count": null,
   "metadata": {},
   "outputs": [],
   "source": []
  },
  {
   "cell_type": "markdown",
   "metadata": {},
   "source": [
    "# Third Edge of Triangle"
   ]
  },
  {
   "cell_type": "code",
   "execution_count": 23,
   "metadata": {},
   "outputs": [],
   "source": [
    "def triangle_parameter(side1, side2):\n",
    "    min_side = min(side1, side2)\n",
    "    max_side = max(side1, side2)\n",
    "    \n",
    "    print(\"The maximun length of side of the triangle is \", max_side + min_side)\n",
    "    print(\"The minimun longitude of side of the edge is \", max_side - min_side)\n",
    "\n",
    "    \n",
    "triangle_parameter(4, 9)"
   ]
  },
  {
   "cell_type": "code",
   "execution_count": null,
   "metadata": {},
   "outputs": [],
   "source": []
  },
  {
   "cell_type": "markdown",
   "metadata": {},
   "source": [
    "# FOOTBALL TEAM TRACKER"
   ]
  },
  {
   "cell_type": "code",
   "execution_count": 24,
   "metadata": {},
   "outputs": [
    {
     "name": "stdout",
     "output_type": "stream",
     "text": [
      "   ____________________________\n",
      "   |                          |\n",
      "   |     Premier League       |\n",
      "   |     TEAM    Tracker      | \n",
      "   |                          | \n",
      "___|__________________________|___\n",
      "\n",
      "Enter your team: liverpool\n",
      "Enter your team's wins: 5\n",
      "Enter your team's draws: 7\n",
      "liverpool got 15 points.\n",
      " Go Home ! \n",
      " Terrible !\n"
     ]
    }
   ],
   "source": [
    "import random \n",
    "def displayBanner():\n",
    "  print(\"   ____________________________\")\n",
    "  print(\"   |                          |\")\n",
    "  print(\"   |     Premier League       |\")\n",
    "  print(\"   |     TEAM    Tracker      | \")\n",
    "  print(\"   |                          | \")\n",
    "  print(\"___|__________________________|___\")\n",
    "  print(\"\")\n",
    "  \n",
    "displayBanner()\n",
    "\n",
    "\n",
    "\n",
    "def main(team=\"England\",wins=0,draws=0,losses=0):\n",
    "    taunt = {1:\" Go Home !\", 2:\"\\n Blackout ???\"}\n",
    "    good = {1:\" Check this out ! \", 2:\"\\n Awesome !\"}\n",
    "    bad = {1:\" You suck !\", 2:\"\\n Terrible !\"}\n",
    "    points = (wins * 3) + losses\n",
    "    print(str(team) + \" got \" + str(points) + \" points.\")\n",
    "    if points > 15:\n",
    "        print(random.choice(list(taunt.values())) + \" \" + random.choice(list(good.values())))\n",
    "    else:\n",
    "        print(random.choice(list(taunt.values())) + \" \" + random.choice(list(bad.values()))) \n",
    "    \n",
    "if __name__ == \"__main__\":\n",
    "    team = input(\"Enter your team: \")\n",
    "    wins = input(\"Enter your team's wins: \")\n",
    "    draws = input(\"Enter your team's draws: \")    \n",
    "    main(team,int(wins),int(draws))"
   ]
  },
  {
   "cell_type": "code",
   "execution_count": null,
   "metadata": {},
   "outputs": [],
   "source": []
  },
  {
   "cell_type": "markdown",
   "metadata": {},
   "source": [
    "# READ FILE "
   ]
  },
  {
   "cell_type": "code",
   "execution_count": 33,
   "metadata": {},
   "outputs": [
    {
     "name": "stdout",
     "output_type": "stream",
     "text": [
      "The file does not exists!\n",
      "Let me know if I can be of any help more !!!! \n"
     ]
    }
   ],
   "source": [
    "path_file = \" \"\n",
    "try:\n",
    "    f = open(path_file, \"r\")\n",
    "    for _ in range(10):\n",
    "        print(next(f))\n",
    "except Exception:\n",
    "    print(\"The file does not exists!\")\n",
    "finally:\n",
    "    f.close()\n",
    "    print(\"Let me know if I can be of any more help !!!! \")"
   ]
  },
  {
   "cell_type": "code",
   "execution_count": null,
   "metadata": {},
   "outputs": [],
   "source": []
  },
  {
   "cell_type": "code",
   "execution_count": null,
   "metadata": {},
   "outputs": [],
   "source": []
  }
 ],
 "metadata": {
  "kernelspec": {
   "display_name": "Python 3",
   "language": "python",
   "name": "python3"
  },
  "language_info": {
   "codemirror_mode": {
    "name": "ipython",
    "version": 3
   },
   "file_extension": ".py",
   "mimetype": "text/x-python",
   "name": "python",
   "nbconvert_exporter": "python",
   "pygments_lexer": "ipython3",
   "version": "3.7.6"
  }
 },
 "nbformat": 4,
 "nbformat_minor": 4
}
