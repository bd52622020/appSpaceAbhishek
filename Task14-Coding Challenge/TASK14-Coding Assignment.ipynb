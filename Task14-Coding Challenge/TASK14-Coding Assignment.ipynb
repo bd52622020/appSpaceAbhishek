{
 "cells": [
  {
   "cell_type": "markdown",
   "metadata": {},
   "source": [
    "# Question1-Latitude & Longitude"
   ]
  },
  {
   "cell_type": "code",
   "execution_count": 75,
   "metadata": {},
   "outputs": [],
   "source": [
    "import pandas as pd\n",
    "import math\n",
    "import sys\n",
    "import datetime, time\n",
    "import calendar\n",
    "import numpy as np\n",
    "from math import radians, sin, cos, acos"
   ]
  },
  {
   "cell_type": "code",
   "execution_count": 60,
   "metadata": {},
   "outputs": [
    {
     "name": "stdout",
     "output_type": "stream",
     "text": [
      "Starting Latitude: 20\n",
      "Ending Longitude: 23\n",
      "Starting Latitude: 46\n",
      "Ending Longitude: 58\n"
     ]
    }
   ],
   "source": [
    "start_lat = radians(float(input(\"Starting Latitude: \")))\n",
    "start_lon = radians(float(input(\"Ending Longitude: \")))\n",
    "end_lat = radians(float(input(\"Starting Latitude: \")))\n",
    "end_lon = radians(float(input(\"Ending Longitude: \")))"
   ]
  },
  {
   "cell_type": "code",
   "execution_count": 61,
   "metadata": {},
   "outputs": [],
   "source": [
    "cal_dist = 6371.01 * acos(sin(start_lat)*sin(end_lat) + cos(start_lat)*cos(end_lat)*cos(start_lon - end_lon))"
   ]
  },
  {
   "cell_type": "code",
   "execution_count": 62,
   "metadata": {},
   "outputs": [
    {
     "name": "stdout",
     "output_type": "stream",
     "text": [
      "The Distance is 4300.07km.\n"
     ]
    }
   ],
   "source": [
    "print(\"The Distance is %.2fkm.\" % cal_dist)"
   ]
  },
  {
   "cell_type": "markdown",
   "metadata": {},
   "source": [
    "# Question2 - Standard deviation"
   ]
  },
  {
   "cell_type": "code",
   "execution_count": 64,
   "metadata": {},
   "outputs": [],
   "source": [
    "num = [4, 2, 5, 8, 6]\n",
    "def std_dev(num):\n",
    "    return np.std(num)"
   ]
  },
  {
   "cell_type": "code",
   "execution_count": 65,
   "metadata": {},
   "outputs": [
    {
     "name": "stdout",
     "output_type": "stream",
     "text": [
      "Std. deviation for given numbers:  2.0\n"
     ]
    }
   ],
   "source": [
    "print(\"Std. deviation for given numbers: \", std_dev(num))"
   ]
  },
  {
   "cell_type": "code",
   "execution_count": null,
   "metadata": {},
   "outputs": [],
   "source": []
  },
  {
   "cell_type": "markdown",
   "metadata": {},
   "source": [
    "# Question3 -Dataframe colouring"
   ]
  },
  {
   "cell_type": "code",
   "execution_count": 66,
   "metadata": {},
   "outputs": [],
   "source": [
    "np.random.seed(24)"
   ]
  },
  {
   "cell_type": "code",
   "execution_count": 71,
   "metadata": {},
   "outputs": [],
   "source": [
    "df = pd.DataFrame({'A': np.linspace(1, 10, 10)})\n",
    "df = pd.concat([df.pd.DataFrame(np.random.randn(10, 4), columns=list('BCBE'))], axis=1)"
   ]
  },
  {
   "cell_type": "code",
   "execution_count": null,
   "metadata": {},
   "outputs": [],
   "source": [
    "print(\"Original array: \")\n",
    "print(df)"
   ]
  },
  {
   "cell_type": "code",
   "execution_count": null,
   "metadata": {},
   "outputs": [],
   "source": [
    "def red_colour_sch(num):\n",
    "    color = 'red' if num < 0 else 'black'\n",
    "    return 'color: %s' % color"
   ]
  },
  {
   "cell_type": "code",
   "execution_count": null,
   "metadata": {},
   "outputs": [],
   "source": [
    "print(\"\\nNegative numbers Red & Positive Numbers Black: \")"
   ]
  },
  {
   "cell_type": "code",
   "execution_count": null,
   "metadata": {},
   "outputs": [],
   "source": [
    "df.style.appymap(red_colour_sch)"
   ]
  },
  {
   "cell_type": "code",
   "execution_count": null,
   "metadata": {},
   "outputs": [],
   "source": []
  },
  {
   "cell_type": "markdown",
   "metadata": {},
   "source": [
    "# Question4 - UFO reporting date"
   ]
  },
  {
   "cell_type": "code",
   "execution_count": 74,
   "metadata": {},
   "outputs": [],
   "source": [
    "df = pd.read_csv(r'ufo_sighting.csv')"
   ]
  },
  {
   "cell_type": "code",
   "execution_count": 78,
   "metadata": {},
   "outputs": [],
   "source": [
    "# df['Data_time'] = df['Date_time'].astype('datetime64[ns]')\n",
    "df[['date','time']] = df['Date_time'].str.split(expand=True)\n",
    "df['Date_time'] = (pd.to_datetime(df.pop('date'), format='%m/%d/%Y') + \n",
    "                  pd.to_timedelta(df.pop('time') + ':00'))"
   ]
  },
  {
   "cell_type": "code",
   "execution_count": 80,
   "metadata": {},
   "outputs": [
    {
     "name": "stdout",
     "output_type": "stream",
     "text": [
      "\n",
      "Latest Ufo Sighting dataset: \n",
      "2014-05-08 18:45:00\n"
     ]
    }
   ],
   "source": [
    "print(\"\\nLatest Ufo Sighting dataset: \")\n",
    "print(df.Date_time.max())"
   ]
  },
  {
   "cell_type": "code",
   "execution_count": 81,
   "metadata": {},
   "outputs": [
    {
     "name": "stdout",
     "output_type": "stream",
     "text": [
      "\n",
      "Oldest Ufo Sighting dataset: \n",
      "1906-11-11 00:00:00\n"
     ]
    }
   ],
   "source": [
    "print(\"\\nOldest Ufo Sighting dataset: \")\n",
    "print(df.Date_time.min())"
   ]
  },
  {
   "cell_type": "code",
   "execution_count": 82,
   "metadata": {},
   "outputs": [
    {
     "name": "stdout",
     "output_type": "stream",
     "text": [
      "\n",
      "Difference between Current date and oldest date of Ufo Sighting: \n",
      "39260\n"
     ]
    }
   ],
   "source": [
    "print(\"\\nDifference between Current date and oldest date of Ufo Sighting: \")\n",
    "print((df.Date_time.max() - df.Date_time.min()).days)"
   ]
  },
  {
   "cell_type": "code",
   "execution_count": null,
   "metadata": {},
   "outputs": [],
   "source": []
  },
  {
   "cell_type": "markdown",
   "metadata": {},
   "source": [
    "# Question5 - Extact datetime"
   ]
  },
  {
   "cell_type": "code",
   "execution_count": 83,
   "metadata": {},
   "outputs": [
    {
     "name": "stdout",
     "output_type": "stream",
     "text": [
      "\n",
      "Year:\n",
      "0    1949\n",
      "1    1949\n",
      "2    1955\n",
      "3    1956\n",
      "4    1960\n",
      "Name: Date_time, dtype: int64\n"
     ]
    }
   ],
   "source": [
    "print(\"\\nYear:\")\n",
    "print(df.Date_time.dt.year.head())"
   ]
  },
  {
   "cell_type": "code",
   "execution_count": 84,
   "metadata": {},
   "outputs": [
    {
     "name": "stdout",
     "output_type": "stream",
     "text": [
      "\n",
      "Month:\n",
      "0    10\n",
      "1    10\n",
      "2    10\n",
      "3    10\n",
      "4    10\n",
      "Name: Date_time, dtype: int64\n"
     ]
    }
   ],
   "source": [
    "print(\"\\nMonth:\")\n",
    "print(df.Date_time.dt.month.head())"
   ]
  },
  {
   "cell_type": "code",
   "execution_count": 85,
   "metadata": {},
   "outputs": [
    {
     "name": "stdout",
     "output_type": "stream",
     "text": [
      "\n",
      "Day:\n",
      "0    10\n",
      "1    10\n",
      "2    10\n",
      "3    10\n",
      "4    10\n",
      "Name: Date_time, dtype: int64\n"
     ]
    }
   ],
   "source": [
    "print(\"\\nDay:\")\n",
    "print(df.Date_time.dt.day.head())"
   ]
  },
  {
   "cell_type": "code",
   "execution_count": 86,
   "metadata": {},
   "outputs": [
    {
     "name": "stdout",
     "output_type": "stream",
     "text": [
      "\n",
      "Hour:\n",
      "0    20\n",
      "1    21\n",
      "2    17\n",
      "3    21\n",
      "4    20\n",
      "Name: Date_time, dtype: int64\n"
     ]
    }
   ],
   "source": [
    "print(\"\\nHour:\")\n",
    "print(df.Date_time.dt.hour.head())"
   ]
  },
  {
   "cell_type": "code",
   "execution_count": 87,
   "metadata": {},
   "outputs": [
    {
     "name": "stdout",
     "output_type": "stream",
     "text": [
      "\n",
      "Minute:\n",
      "0    30\n",
      "1     0\n",
      "2     0\n",
      "3     0\n",
      "4     0\n",
      "Name: Date_time, dtype: int64\n"
     ]
    }
   ],
   "source": [
    "print(\"\\nMinute:\")\n",
    "print(df.Date_time.dt.minute.head())"
   ]
  },
  {
   "cell_type": "code",
   "execution_count": 88,
   "metadata": {},
   "outputs": [
    {
     "name": "stdout",
     "output_type": "stream",
     "text": [
      "\n",
      "Second:\n",
      "0    0\n",
      "1    0\n",
      "2    0\n",
      "3    0\n",
      "4    0\n",
      "Name: Date_time, dtype: int64\n"
     ]
    }
   ],
   "source": [
    "print(\"\\nSecond:\")\n",
    "print(df.Date_time.dt.second.head())"
   ]
  },
  {
   "cell_type": "code",
   "execution_count": 91,
   "metadata": {},
   "outputs": [
    {
     "name": "stdout",
     "output_type": "stream",
     "text": [
      "\n",
      "Weekday:\n",
      "0           Monday\n",
      "1           Monday\n",
      "2           Monday\n",
      "3        Wednesday\n",
      "4           Monday\n",
      "           ...    \n",
      "80327       Monday\n",
      "80328       Monday\n",
      "80329       Monday\n",
      "80330       Monday\n",
      "80331       Monday\n",
      "Name: Date_time, Length: 80332, dtype: object\n"
     ]
    }
   ],
   "source": [
    "print(\"\\nWeekday:\")\n",
    "print(df.Date_time.dt.day_name())"
   ]
  },
  {
   "cell_type": "code",
   "execution_count": null,
   "metadata": {},
   "outputs": [],
   "source": []
  },
  {
   "cell_type": "markdown",
   "metadata": {},
   "source": [
    "# Question6: Empty values"
   ]
  },
  {
   "cell_type": "code",
   "execution_count": 92,
   "metadata": {},
   "outputs": [
    {
     "name": "stdout",
     "output_type": "stream",
     "text": [
      "Date_time                             0\n",
      "city                                  0\n",
      "state/province                     5797\n",
      "country                            9670\n",
      "UFO_shape                          1932\n",
      "length_of_encounter_seconds           0\n",
      "described_duration_of_encounter       0\n",
      "description                          15\n",
      "date_documented                       0\n",
      "latitude                              0\n",
      "longitude                             0\n",
      "dtype: int64\n"
     ]
    }
   ],
   "source": [
    "print(df.isnull().sum())"
   ]
  },
  {
   "cell_type": "code",
   "execution_count": null,
   "metadata": {},
   "outputs": [],
   "source": []
  }
 ],
 "metadata": {
  "kernelspec": {
   "display_name": "Python 3",
   "language": "python",
   "name": "python3"
  },
  "language_info": {
   "codemirror_mode": {
    "name": "ipython",
    "version": 3
   },
   "file_extension": ".py",
   "mimetype": "text/x-python",
   "name": "python",
   "nbconvert_exporter": "python",
   "pygments_lexer": "ipython3",
   "version": "3.7.6"
  }
 },
 "nbformat": 4,
 "nbformat_minor": 4
}
