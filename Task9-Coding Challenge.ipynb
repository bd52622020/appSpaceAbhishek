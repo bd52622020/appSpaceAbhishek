{
 "cells": [
  {
   "cell_type": "markdown",
   "metadata": {},
   "source": [
    "# Prime Numbers"
   ]
  },
  {
   "cell_type": "code",
   "execution_count": 1,
   "metadata": {},
   "outputs": [
    {
     "name": "stdout",
     "output_type": "stream",
     "text": [
      "Prime numbers between 0 and 30 are:\n",
      "2\n",
      "3\n",
      "5\n",
      "7\n",
      "11\n",
      "13\n",
      "17\n",
      "19\n",
      "23\n",
      "29\n"
     ]
    }
   ],
   "source": [
    "import re\n",
    "\n",
    "upper = 30\n",
    "\n",
    "print(\"Prime numbers between\", 0, \"and\", upper, \"are:\")\n",
    "\n",
    "for num in range(0, upper + 1):\n",
    "   \n",
    "   if num > 1:\n",
    "       for i in range(2, num):\n",
    "           if (num % i) == 0:\n",
    "               break\n",
    "       else:\n",
    "           print(num)"
   ]
  },
  {
   "cell_type": "markdown",
   "metadata": {},
   "source": [
    "# LEAP YEAR CALCULATION"
   ]
  },
  {
   "cell_type": "code",
   "execution_count": 22,
   "metadata": {},
   "outputs": [
    {
     "name": "stdout",
     "output_type": "stream",
     "text": [
      "Give me year :2021\n",
      "IT IS A COMMON YEAR\n"
     ]
    }
   ],
   "source": [
    "year = int(input(\"Give me year :\" ))\n",
    "\n",
    "if ((year%4==0 and year%100!=0) or (year%400==0)):\n",
    "    print(\"IT IS A LEAP YEAR\")\n",
    "else:\n",
    "    print(\"IT IS A COMMON YEAR\")"
   ]
  },
  {
   "cell_type": "markdown",
   "metadata": {},
   "source": [
    "# A program of list number a to evaluate FIRST & LAST numbers in list"
   ]
  },
  {
   "cell_type": "code",
   "execution_count": 26,
   "metadata": {},
   "outputs": [
    {
     "name": "stdout",
     "output_type": "stream",
     "text": [
      "True\n",
      "False\n",
      "True\n"
     ]
    },
    {
     "data": {
      "text/plain": [
       "True"
      ]
     },
     "execution_count": 26,
     "metadata": {},
     "output_type": "execute_result"
    }
   ],
   "source": [
    "def list(nums):\n",
    "    ans = False\n",
    "    \n",
    "    if nums[0] == nums[-1] and len(nums) > 1:\n",
    "        ans = True\n",
    "    else:\n",
    "        ans = False\n",
    "        \n",
    "    print(ans)\n",
    "    return ans\n",
    "\n",
    "list([1,2,1])\n",
    "list([2,4,6,8])\n",
    "list([1,3,6,3,1])"
   ]
  },
  {
   "cell_type": "markdown",
   "metadata": {},
   "source": [
    "# ISBN Validator Program"
   ]
  },
  {
   "cell_type": "code",
   "execution_count": 2,
   "metadata": {},
   "outputs": [
    {
     "name": "stdout",
     "output_type": "stream",
     "text": [
      "Enter ISBN code: 1-233-75621-1\n",
      "1-233-75621-1  is correct\n"
     ]
    }
   ],
   "source": [
    "import re\n",
    "\n",
    "pattern = (r'[0-9]{1}-[0-9]{3}-[0-9]{5}-[0-9]{1}')\n",
    "Number = input(\"Enter ISBN code: \")\n",
    "#Enter digit in same pattern including'-' to validate input\n",
    "if re.match(pattern,Number):\n",
    "    print(Number,' is correct')\n",
    "else:\n",
    "    print(Number, ' is not correct')\n",
    "    "
   ]
  },
  {
   "cell_type": "code",
   "execution_count": null,
   "metadata": {},
   "outputs": [],
   "source": []
  }
 ],
 "metadata": {
  "kernelspec": {
   "display_name": "Python 3",
   "language": "python",
   "name": "python3"
  },
  "language_info": {
   "codemirror_mode": {
    "name": "ipython",
    "version": 3
   },
   "file_extension": ".py",
   "mimetype": "text/x-python",
   "name": "python",
   "nbconvert_exporter": "python",
   "pygments_lexer": "ipython3",
   "version": "3.7.6"
  }
 },
 "nbformat": 4,
 "nbformat_minor": 4
}
