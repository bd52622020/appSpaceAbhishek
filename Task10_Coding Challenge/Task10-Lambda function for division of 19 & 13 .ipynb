{
 "cells": [
  {
   "cell_type": "markdown",
   "metadata": {},
   "source": [
    "# Number divisible by 19 or 13 using Lambda"
   ]
  },
  {
   "cell_type": "code",
   "execution_count": null,
   "metadata": {},
   "outputs": [],
   "source": []
  },
  {
   "cell_type": "code",
   "execution_count": 5,
   "metadata": {},
   "outputs": [
    {
     "name": "stdout",
     "output_type": "stream",
     "text": [
      "Orginal list:\n",
      "[56, 28, 86, 39, 152, 639, 121, 44, 90, 190, 19, 13]\n",
      "\n",
      "Numbers of the above list divisible by nineteen or thirteen:\n",
      "[39, 152, 190, 19, 13]\n"
     ]
    }
   ],
   "source": [
    "given_list = [56, 28, 86, 39, 152, 639, 121, 44, 90, 190, 19, 13]\n",
    "print(\"Orginal list:\")\n",
    "print(given_list) \n",
    "\n",
    "result = list(filter(lambda a: (a % 19 == 0 or a % 13 == 0), given_list))\n",
    "\n",
    "print(\"\\nNumbers of the above list divisible by nineteen or thirteen:\")\n",
    "print(result)\n"
   ]
  },
  {
   "cell_type": "code",
   "execution_count": null,
   "metadata": {},
   "outputs": [],
   "source": []
  }
 ],
 "metadata": {
  "kernelspec": {
   "display_name": "Python 3",
   "language": "python",
   "name": "python3"
  },
  "language_info": {
   "codemirror_mode": {
    "name": "ipython",
    "version": 3
   },
   "file_extension": ".py",
   "mimetype": "text/x-python",
   "name": "python",
   "nbconvert_exporter": "python",
   "pygments_lexer": "ipython3",
   "version": "3.7.6"
  }
 },
 "nbformat": 4,
 "nbformat_minor": 4
}
