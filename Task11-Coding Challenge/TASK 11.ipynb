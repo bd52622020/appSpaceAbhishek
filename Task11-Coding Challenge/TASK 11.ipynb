{
 "cells": [
  {
   "cell_type": "markdown",
   "metadata": {},
   "source": [
    "# Dictionaries of vehicle & weight"
   ]
  },
  {
   "cell_type": "code",
   "execution_count": 10,
   "metadata": {},
   "outputs": [],
   "source": []
  },
  {
   "cell_type": "code",
   "execution_count": null,
   "metadata": {},
   "outputs": [],
   "source": [
    "\n",
    "dictt={\"Sedan\": 1500, \"SUV\": 2000, \"Pickup\": 2500, \"Minivan\": 1600, \"Van\": 2400, \"Semi\": 13600, \"Bicycle\": 7, \"Motorcycle\": 110}\n",
    "myList = []\n",
    "for key ,value in dictt.items():\n",
    "    if value < 5000:\n",
    "        myList.append(key.upper())\n",
    "print(myList)\n"
   ]
  },
  {
   "cell_type": "markdown",
   "metadata": {},
   "source": [
    "# PASSWORD GENERATOR"
   ]
  },
  {
   "cell_type": "code",
   "execution_count": null,
   "metadata": {},
   "outputs": [],
   "source": [
    "import random\n",
    "\n",
    "print()\n",
    "print(\"This program will generate a random password for you.\")\n",
    "\n",
    "def runProgram():\n",
    "\n",
    "    usr = input(\"What type of password do you require? ('Strong' or 'Weak'): \")\n",
    "\n",
    "    def strongPass():\n",
    "        a = random.sample(strong, 16)\n",
    "        c =  \"\".join(a)\n",
    "        print(\"Your new strong Password is \" + c)\n",
    "\n",
    "    def weakPass():\n",
    "        b = random.sample(weak, 8)\n",
    "        d =  \"\".join(b)\n",
    "        print(\"Your new weak Password is \" + d)\n",
    "\n",
    "    strong = \"abcdefghijklmnopqrstuvwxyz!@#$%^&*<>?ABCDEFGHIJKLMNOPQRSTUVWXYZ0123456789\"\n",
    "    weak = \"abcdefghijklmnopqrstuvwxyz0123456789\"\n",
    "\n",
    "    if usr == \"weak\":\n",
    "        weakPass()\n",
    "    elif usr == \"strong\":\n",
    "        strongPass()\n",
    "\n",
    "playagain = 'y'\n",
    "while playagain == 'y': \n",
    "    runProgram()\n",
    "    print()\n",
    "    playagain = input('Do you want to generate another password? (y or n)')\n",
    "    print()"
   ]
  },
  {
   "cell_type": "code",
   "execution_count": null,
   "metadata": {},
   "outputs": [],
   "source": []
  },
  {
   "cell_type": "code",
   "execution_count": null,
   "metadata": {},
   "outputs": [],
   "source": [
    "birthdays = {\n",
    "                  \"abhishek mane\" : \"14/03/1879\",\n",
    "                  \"amitabh tiwari\"    : \"21/10/1833\",\n",
    "                  \"charles craig\"  : \"12/02/1809\",\n",
    "                  \"samidha borade\"    : \"04/01/1643\",\n",
    "                  \"yezdani begum\"   : \"27/12/1822\",\n",
    "                  \"ahyan abid\"     : \"07/11/1867\",\n",
    "                  \"ridhwan mane\" : \"22/09/1791\",\n",
    "                  \"subham mane\"      : \"07/10/1885\",\n",
    "                  \"tahera begum\" : \"11/05/1918\",\n",
    "                  \"ghouse mohiuddin\" : \"08/01/1942\"\n",
    "\n",
    "\n",
    "b_output = birthdays.keys()\n",
    "\n",
    "print(\"Welcome to the birthday dictionary! We know the birthdays of:\")\n",
    "\n",
    "for x in b_output:\n",
    "  print(x)\n",
    "  \n",
    "choice = input(\"Whose birthday do you want to look up?\")\n",
    "\n",
    "if choice in lst:\n",
    "  print(\"{}'s birthday is {}.\".format(choice, birthdays[choice]))\n",
    "else:\n",
    "    print(\"Unfortunately, we don't know {}'s birthday. Try again.\".format(choice))"
   ]
  },
  {
   "cell_type": "code",
   "execution_count": null,
   "metadata": {},
   "outputs": [],
   "source": []
  },
  {
   "cell_type": "markdown",
   "metadata": {},
   "source": [
    "# Map Function with list"
   ]
  },
  {
   "cell_type": "code",
   "execution_count": null,
   "metadata": {},
   "outputs": [],
   "source": [
    "sqrList = map(lambda x: x*x, [10, 20, 30, 40, 50, 60])\n",
    "print(list(sqrList))"
   ]
  }
 ],
 "metadata": {
  "kernelspec": {
   "display_name": "Python 3",
   "language": "python",
   "name": "python3"
  },
  "language_info": {
   "codemirror_mode": {
    "name": "ipython",
    "version": 3
   },
   "file_extension": ".py",
   "mimetype": "text/x-python",
   "name": "python",
   "nbconvert_exporter": "python",
   "pygments_lexer": "ipython3",
   "version": "3.7.6"
  }
 },
 "nbformat": 4,
 "nbformat_minor": 4
}
