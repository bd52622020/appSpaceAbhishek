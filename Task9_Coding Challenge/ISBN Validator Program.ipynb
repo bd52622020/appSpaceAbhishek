{
 "cells": [
  {
   "cell_type": "markdown",
   "metadata": {},
   "source": [
    "### @Abhishek Mane"
   ]
  },
  {
   "cell_type": "markdown",
   "metadata": {},
   "source": [
    "# ISBN Validator Program"
   ]
  },
  {
   "cell_type": "code",
   "execution_count": 2,
   "metadata": {},
   "outputs": [
    {
     "name": "stdout",
     "output_type": "stream",
     "text": [
      "Enter ISBN code: 1-233-75621-1\n",
      "1-233-75621-1  is correct\n"
     ]
    }
   ],
   "source": [
    "import re\n",
    "\n",
    "pattern = (r'[0-9]{1}-[0-9]{3}-[0-9]{5}-[0-9]{1}')\n",
    "Number = input(\"Enter ISBN code: \")\n",
    "#Enter digit in same pattern including'-' to validate input\n",
    "if re.match(pattern,Number):\n",
    "    print(Number,' is correct')\n",
    "else:\n",
    "    print(Number, ' is not correct')\n",
    "    "
   ]
  },
  {
   "cell_type": "code",
   "execution_count": null,
   "metadata": {},
   "outputs": [],
   "source": []
  }
 ],
 "metadata": {
  "kernelspec": {
   "display_name": "Python 3",
   "language": "python",
   "name": "python3"
  },
  "language_info": {
   "codemirror_mode": {
    "name": "ipython",
    "version": 3
   },
   "file_extension": ".py",
   "mimetype": "text/x-python",
   "name": "python",
   "nbconvert_exporter": "python",
   "pygments_lexer": "ipython3",
   "version": "3.7.6"
  }
 },
 "nbformat": 4,
 "nbformat_minor": 4
}
