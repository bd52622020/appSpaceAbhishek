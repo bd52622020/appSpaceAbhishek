{
 "cells": [
  {
   "cell_type": "code",
   "execution_count": null,
   "metadata": {},
   "outputs": [],
   "source": [
    "import numpy as np \n",
    "import pandas as pd \n",
    "from datetime import datetime"
   ]
  },
  {
   "cell_type": "code",
   "execution_count": null,
   "metadata": {},
   "outputs": [],
   "source": [
    "u_cols = ['user_id', 'age', 'sex', 'occupation', 'zip_code']\n",
    "r_cols = ['user_id', 'movie_id', 'rating', 'unix_timestamp']\n",
    "m_cols = [\"movie_id\", \"title\", \"release_date\", \"video_release_date\",\n",
    "                  \"IMBd_Url\", \"unknown\", \"action\", \"adventure\", \"animation\",\n",
    "                   \"childen's\", \"comedy\", \"crime\", \"documentary\", \"drama\", \"fantasy\",\n",
    "                   \"film-Noir\", \"horror\", \"musical\", \"mystery\", \"romance\", \"sci-fi\",\n",
    "                   \"thriller\", \"war\", \"western\"]"
   ]
  },
  {
   "cell_type": "code",
   "execution_count": null,
   "metadata": {},
   "outputs": [],
   "source": [
    "users = pd.read_csv('/Users/abhishekmane/Downloads/ml-100k/u.user', sep='|', header=None) \n",
    "ratings = pd.read_csv('/Users/abhishekmane/Downloads/ml-100k/u.data', sep='\\t', header=None)\n",
    "movies = pd.read_csv('/Users/abhishekmane/Downloads/ml-100k/u.item', sep='|', header=None, engine='python')"
   ]
  },
  {
   "cell_type": "code",
   "execution_count": null,
   "metadata": {},
   "outputs": [],
   "source": [
    "users.columns= u_cols\n",
    "ratings.columns= r_cols\n",
    "movies.columns= m_cols"
   ]
  },
  {
   "cell_type": "markdown",
   "metadata": {},
   "source": [
    "# Top 10 rated movies"
   ]
  },
  {
   "cell_type": "code",
   "execution_count": null,
   "metadata": {},
   "outputs": [],
   "source": [
    "movie_ratings = pd.merge(movies, ratings)\n",
    "df = pd.merge(pd.merge(users,ratings),movies)\n",
    "most_rated = df.groupby(\"title\").size().sort_values(ascending=False)[:10]"
   ]
  },
  {
   "cell_type": "code",
   "execution_count": null,
   "metadata": {},
   "outputs": [],
   "source": [
    "print(\"Top 10 rated movies (overall):\\n\", most_rated)"
   ]
  },
  {
   "cell_type": "markdown",
   "metadata": {},
   "source": [
    "# List of movies that received highest number of \"5\" rating"
   ]
  },
  {
   "cell_type": "code",
   "execution_count": null,
   "metadata": {},
   "outputs": [],
   "source": [
    "movie_stat=df.groupby('title').agg({'rating':[np.size,np.mean]})\n",
    "movie_stat.sort_values([('rating','mean')],ascending=False).head()"
   ]
  },
  {
   "cell_type": "markdown",
   "metadata": {},
   "source": [
    "# OLDEST MOVIE WITH \"5\"RATING"
   ]
  },
  {
   "cell_type": "code",
   "execution_count": null,
   "metadata": {
    "scrolled": true
   },
   "outputs": [],
   "source": [
    "df[\"release_date\"] = pd.to_datetime(df[\"release_date\"])\n",
    "min_date = df[\"release_date\"].min()\n",
    "OldRated = df[(df['rating']==5) & (df[\"release_date\"] == min_date)]\n",
    "OldRated.drop_duplicates(\"title\")"
   ]
  },
  {
   "cell_type": "markdown",
   "metadata": {},
   "source": [
    "# MOST RATED MOVIE BY 'STUDENTS'"
   ]
  },
  {
   "cell_type": "code",
   "execution_count": null,
   "metadata": {},
   "outputs": [],
   "source": [
    "Student_rated = df[(df[\"occupation\"]==\"student\")].groupby('title').count().sort_values([\"rating\"],ascending=False)[:1]"
   ]
  },
  {
   "cell_type": "code",
   "execution_count": null,
   "metadata": {},
   "outputs": [],
   "source": [
    "Student_rated[[\"rating\"]]"
   ]
  },
  {
   "cell_type": "markdown",
   "metadata": {},
   "source": [
    "# MOST RATED MOVIE BY AGES BETWEEN 20-25"
   ]
  },
  {
   "cell_type": "code",
   "execution_count": null,
   "metadata": {},
   "outputs": [],
   "source": [
    "Age_rated = df[(df['age']>=20) & (df[\"age\"]<=25)].groupby('title').count().sort_values([\"rating\"],ascending=False)\n",
    "Age_rated[[\"rating\"]].head()"
   ]
  },
  {
   "cell_type": "markdown",
   "metadata": {},
   "source": [
    "# MOST RATED \"ZIPCODES\" with HIGHTEST RATING"
   ]
  },
  {
   "cell_type": "code",
   "execution_count": null,
   "metadata": {},
   "outputs": [],
   "source": [
    "zipcode_rated = df.groupby('zip_code').count().sort_values([\"rating\"],ascending=False)[:10]\n",
    "zipcode_rated[[\"rating\"]].head()"
   ]
  },
  {
   "cell_type": "markdown",
   "metadata": {},
   "source": [
    "# MOST RATED MOVIES BEFORE 1960"
   ]
  },
  {
   "cell_type": "code",
   "execution_count": null,
   "metadata": {},
   "outputs": [],
   "source": [
    "ratings[\"release_date\"] = ratings[\"unix_timestamp\"].apply(lambda x: datetime.fromtimestamp(x))\n",
    "ratings_under = ratings[ratings[\"release_date\"] > datetime(1960,12,31)]\n",
    "movie_ids= ratings_under[\"movie_id\"]\n",
    "movies_under = movies[movies[\"movie_id\"].isin(movie_ids)]\n",
    "print(movies_under[\"title\"][:10])\n"
   ]
  },
  {
   "cell_type": "markdown",
   "metadata": {},
   "source": [
    "# TOTAL RATED BY GENRES"
   ]
  },
  {
   "cell_type": "code",
   "execution_count": null,
   "metadata": {},
   "outputs": [],
   "source": [
    "genre_data = pd.merge(ratings, movies, left_on=\"movie_id\", right_on=\"movie_id\").reindex()\n",
    "genre_data[genre_data.columns[8:]].sum()"
   ]
  },
  {
   "cell_type": "markdown",
   "metadata": {},
   "source": [
    "# MOST RATED BY GENRES"
   ]
  },
  {
   "cell_type": "code",
   "execution_count": null,
   "metadata": {},
   "outputs": [],
   "source": [
    "genre_data = pd.merge(most_rated, movies,left_on=\"movie_id\", right_on=\"movie_id\")\n",
    "Genres= genre_data.loc[:,\"unknown\":\"western\"]\n",
    "genre_data[\"genres\"]= 1\n",
    "\n",
    "Movies= ratings_data[\"movie_id\"].value_counts().index[:10]\n",
    "for i in Movies:\n",
    "    Title= movies[movies[\"movie_id\"]== i][\"title\"].values[0]\n",
    "    Genres= movies[movies[\"movie_id\"]== i].iloc[:,5:]\n",
    "    list= Genres.columns[(Genres ==1).values[0]]\n",
    "    print(\"{:30} Genres: {}\".format(title, \", \".join(list)))"
   ]
  },
  {
   "cell_type": "code",
   "execution_count": null,
   "metadata": {},
   "outputs": [],
   "source": []
  }
 ],
 "metadata": {
  "kernelspec": {
   "display_name": "Python 3",
   "language": "python",
   "name": "python3"
  },
  "language_info": {
   "codemirror_mode": {
    "name": "ipython",
    "version": 3
   },
   "file_extension": ".py",
   "mimetype": "text/x-python",
   "name": "python",
   "nbconvert_exporter": "python",
   "pygments_lexer": "ipython3",
   "version": "3.7.6"
  }
 },
 "nbformat": 4,
 "nbformat_minor": 4
}
