{
 "cells": [
  {
   "cell_type": "markdown",
   "metadata": {},
   "source": [
    "#### @Abhishek Mane"
   ]
  },
  {
   "cell_type": "markdown",
   "metadata": {},
   "source": [
    "# SpeedLimit Check"
   ]
  },
  {
   "cell_type": "code",
   "execution_count": 20,
   "metadata": {},
   "outputs": [
    {
     "name": "stdout",
     "output_type": "stream",
     "text": [
      "Enter speed: 85\n",
      "Point: 3\n"
     ]
    }
   ],
   "source": [
    "def speedlimit_check(speed):\n",
    "    if speed <= 70:\n",
    "        return \"OK\"\n",
    "\n",
    "    else:\n",
    "        speed1 = (speed-70)//5\n",
    "\n",
    "        if speed1 <= 12:\n",
    "            return print(f\"Point: [speed1]\")\n",
    "\n",
    "        else:\n",
    "            return print(\"License suspended\")\n",
    "\n",
    "\n",
    "enter = speed_check(int(input(\"Enter speed: \")))\n"
   ]
  }
 ],
 "metadata": {
  "kernelspec": {
   "display_name": "Python 3",
   "language": "python",
   "name": "python3"
  },
  "language_info": {
   "codemirror_mode": {
    "name": "ipython",
    "version": 3
   },
   "file_extension": ".py",
   "mimetype": "text/x-python",
   "name": "python",
   "nbconvert_exporter": "python",
   "pygments_lexer": "ipython3",
   "version": "3.7.6"
  }
 },
 "nbformat": 4,
 "nbformat_minor": 4
}
