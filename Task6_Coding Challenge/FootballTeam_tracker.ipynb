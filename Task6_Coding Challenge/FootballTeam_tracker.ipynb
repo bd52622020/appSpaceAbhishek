{
 "cells": [
  {
   "cell_type": "markdown",
   "metadata": {},
   "source": [
    "#### @Abhishek Mane"
   ]
  },
  {
   "cell_type": "markdown",
   "metadata": {},
   "source": [
    "# FOOTBALL TEAM TRACKER"
   ]
  },
  {
   "cell_type": "code",
   "execution_count": 24,
   "metadata": {},
   "outputs": [
    {
     "name": "stdout",
     "output_type": "stream",
     "text": [
      "   ____________________________\n",
      "   |                          |\n",
      "   |     Premier League       |\n",
      "   |     TEAM    Tracker      | \n",
      "   |                          | \n",
      "___|__________________________|___\n",
      "\n",
      "Enter your team: liverpool\n",
      "Enter your team's wins: 5\n",
      "Enter your team's draws: 7\n",
      "liverpool got 15 points.\n",
      " Go Home ! \n",
      " Terrible !\n"
     ]
    }
   ],
   "source": [
    "import random \n",
    "def displayBanner():\n",
    "  print(\"   ____________________________\")\n",
    "  print(\"   |                          |\")\n",
    "  print(\"   |     Premier League       |\")\n",
    "  print(\"   |     TEAM    Tracker      | \")\n",
    "  print(\"   |                          | \")\n",
    "  print(\"___|__________________________|___\")\n",
    "  print(\"\")\n",
    "  \n",
    "displayBanner()\n",
    "\n",
    "\n",
    "\n",
    "def main(team=\"England\",wins=0,draws=0,losses=0):\n",
    "    taunt = {1:\" Go Home !\", 2:\"\\n Blackout ???\"}\n",
    "    good = {1:\" Check this out ! \", 2:\"\\n Awesome !\"}\n",
    "    bad = {1:\" You suck !\", 2:\"\\n Terrible !\"}\n",
    "    points = (wins * 3) + losses\n",
    "    print(str(team) + \" got \" + str(points) + \" points.\")\n",
    "    if points > 15:\n",
    "        print(random.choice(list(taunt.values())) + \" \" + random.choice(list(good.values())))\n",
    "    else:\n",
    "        print(random.choice(list(taunt.values())) + \" \" + random.choice(list(bad.values()))) \n",
    "    \n",
    "if __name__ == \"__main__\":\n",
    "    team = input(\"Enter your team: \")\n",
    "    wins = input(\"Enter your team's wins: \")\n",
    "    draws = input(\"Enter your team's draws: \")    \n",
    "    main(team,int(wins),int(draws))"
   ]
  }
 ],
 "metadata": {
  "kernelspec": {
   "display_name": "Python 3",
   "language": "python",
   "name": "python3"
  },
  "language_info": {
   "codemirror_mode": {
    "name": "ipython",
    "version": 3
   },
   "file_extension": ".py",
   "mimetype": "text/x-python",
   "name": "python",
   "nbconvert_exporter": "python",
   "pygments_lexer": "ipython3",
   "version": "3.7.6"
  }
 },
 "nbformat": 4,
 "nbformat_minor": 4
}
