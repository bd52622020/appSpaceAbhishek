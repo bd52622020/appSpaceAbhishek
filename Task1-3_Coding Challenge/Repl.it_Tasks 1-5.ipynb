{
 "cells": [
  {
   "cell_type": "markdown",
   "metadata": {},
   "source": [
    "### @Abhishek Mane"
   ]
  },
  {
   "cell_type": "markdown",
   "metadata": {},
   "source": [
    "# Task_1"
   ]
  },
  {
   "cell_type": "code",
   "execution_count": null,
   "metadata": {},
   "outputs": [],
   "source": [
    "#Number of words in txt file\n",
    "f = open(\"Shakespeare.txt\", \"r\")\n",
    "data = f.read()\n",
    "words = data.split()\n",
    "\n",
    "print('Number of words in text file :', len(words))"
   ]
  },
  {
   "cell_type": "code",
   "execution_count": null,
   "metadata": {},
   "outputs": [],
   "source": [
    "#Number of lines in txt file\n",
    "open(\"Shakespeare.txt\").read().count('\\n')\n",
    "\n"
   ]
  },
  {
   "cell_type": "code",
   "execution_count": null,
   "metadata": {},
   "outputs": [],
   "source": [
    "#Number of vovels in txt file\n",
    "with open(\"Shakespeare.txt\") as f:\n",
    "    file_content = f.read().rstrip(\"\\n\")\n",
    "    \n",
    "vowels = set(\"A E I O U a e i o u\")\n",
    "countV = 0\n",
    "for V in file_content:\n",
    "    if V in vowels:\n",
    "        countV += 1\n",
    "\n",
    "print(\"The number of Vowels are: \",countV)\n",
    "\n"
   ]
  },
  {
   "cell_type": "code",
   "execution_count": null,
   "metadata": {},
   "outputs": [],
   "source": [
    "#Total numbers or integers in txt file\n",
    "f = open(\"Shakespeare.txt\", \"r\")\n",
    "content = f.readlines()\n",
    "a = 0\n",
    "for line in content: \n",
    "      \n",
    "    for i in line: \n",
    "        if i.isdigit() == True: \n",
    "              \n",
    "            a += int(i) \n",
    "  \n",
    "print(\"Total numbers in txt file are:\", a) \n",
    "\n"
   ]
  },
  {
   "cell_type": "code",
   "execution_count": null,
   "metadata": {},
   "outputs": [],
   "source": [
    "#Creating CSV file of the results\n",
    "\n",
    "import csv\n",
    "\n",
    "    writer.writerow(('Number of words', '901325'))\n",
    "    writer.writerow(('Number of lines', '124456'))\n",
    "    writer.writerow(('Number of Vovels', '2727825'))\n",
    "    writer.writerow(('Total numbers', '12949'))\n",
    "    \n",
    "    \n",
    "print('Results of Task_01 are:\\n' + ', '.join(field for field in fields)) \n",
    "   \n",
    "for row in rows[::]: \n",
    "    # parsing each column of a row \n",
    "    for col in row: \n",
    "        print(\"%10s\"%col), \n",
    "    print('\\n') "
   ]
  },
  {
   "cell_type": "markdown",
   "metadata": {},
   "source": [
    "# TASK2"
   ]
  },
  {
   "cell_type": "code",
   "execution_count": null,
   "metadata": {},
   "outputs": [],
   "source": [
    "#input\n",
    "name =  input(\"What is you name: \")\n",
    "\n",
    "#First output\n",
    "print(name)\n",
    "\n",
    "#2nd Input\n",
    "reverse= input(name[::-1])\n",
    "#Second output\n",
    "print(reverse)\n",
    "\n",
    "#converting to txt file\n",
    "f= open(\"Task2.txt\", \"a\")\n",
    "f.write(name)\n",
    "f.write(reverse)"
   ]
  },
  {
   "cell_type": "markdown",
   "metadata": {},
   "source": [
    "# TASK-3"
   ]
  },
  {
   "cell_type": "code",
   "execution_count": null,
   "metadata": {},
   "outputs": [],
   "source": [
    "\n",
    "import regex as re\n",
    "outfile=\"out.csv\"\n",
    "\n",
    "f = open (\"phoneNumbers.txt\")\n",
    "\n",
    "data=f.read()\n",
    "lines=data.splitlines()\n",
    "\n",
    "\n",
    "with open(outfile, 'w') as file:\n",
    "  for line in lines:\n",
    "    number = line[-12:]\n",
    "    print(number)\n",
    "    x = re.sub(\"[*,]\", \"-\", number)\n",
    "    # #print(x)\n",
    "    file.write(x+\"\\n\")"
   ]
  },
  {
   "cell_type": "markdown",
   "metadata": {},
   "source": [
    "# Task_4"
   ]
  },
  {
   "cell_type": "code",
   "execution_count": null,
   "metadata": {},
   "outputs": [],
   "source": [
    "\n",
    "\"\"\"Using following command gives output file-activity.txt and index.html\"\"\"\n",
    "\n",
    "wget \\\n",
    "--recursive \\\n",
    "--no-clobber \\\n",
    "--page-requisites \\\n",
    "--html-extension \\\n",
    "--convert-links \\\n",
    "--restrict-file-names=unix \\\n",
    "--wait=5 \\\n",
    "--limit-rate=20K \\\n",
    "--user-agent=Mozilla \\\n",
    "--level=10 \\\n",
    "--output-file /Users/abhishekmane/Desktop/Task04/activity.txt \\\n",
    "--no-parent \\\n",
    "https://theappexperts.co.uk/&\n",
    "\n",
    "\n",
    "wget  --recursive  --no-clobber  --page-requisites  --html-extension  --convert-links  --restrict-file-names=unix  --wait=5  --limit-rate=20K  --user-agent=Mozilla  --level=10  --output-file /Users/abhishekmane/Desktop/Task04/activity1.txt  --no-parent  http://www.autismberkshire.org.uk/workshops-parents-carers/&\n",
    "\n"
   ]
  },
  {
   "cell_type": "code",
   "execution_count": null,
   "metadata": {},
   "outputs": [],
   "source": []
  },
  {
   "cell_type": "markdown",
   "metadata": {},
   "source": [
    "# Task_5"
   ]
  },
  {
   "cell_type": "code",
   "execution_count": null,
   "metadata": {},
   "outputs": [],
   "source": []
  },
  {
   "cell_type": "markdown",
   "metadata": {},
   "source": [
    "### Random Password Generator"
   ]
  },
  {
   "cell_type": "code",
   "execution_count": null,
   "metadata": {},
   "outputs": [],
   "source": [
    "\"\"\"Random Password Generator\"\"\"\n",
    "\n",
    "import random\n",
    "\n",
    "chars = 'abcdefghijklmnopqrstuvwxyzABCDEFGHIJKLMNOPQRSTUVWXYZ!@£$%^&*().,?0123456789'\n",
    "\n",
    "number = 1\n",
    "\n",
    "length = input('password length=')\n",
    "length = int(length)\n",
    "\n",
    "print('\\nhere are your passwords:')\n",
    "\n",
    "for pwd in range(number):\n",
    "  password = ''\n",
    "  for c in range(length):\n",
    "    password += random.choice(chars)\n",
    "  print(password)\n",
    "\n"
   ]
  },
  {
   "cell_type": "code",
   "execution_count": null,
   "metadata": {},
   "outputs": [],
   "source": []
  },
  {
   "cell_type": "markdown",
   "metadata": {},
   "source": [
    "### ROCK,PAPER & SCISSORS GAME"
   ]
  },
  {
   "cell_type": "code",
   "execution_count": null,
   "metadata": {},
   "outputs": [],
   "source": [
    "\n",
    "\"\"\"ROCK,PAPER, SCISSOR GAME\"\"\"\n",
    "\n",
    "user1 = input(\"What's your name?\")\n",
    "user2 = input(\"And your name?\")\n",
    "\n",
    "player1_wins = 0\n",
    "player2_wins = 0\n",
    "\n",
    "def Choose_Option():\n",
    "    user1_choice = input(\"Choose Rock, Paper or Scissors: \")\n",
    "    if user1_choice in [\"Rock\", \"rock\", \"r\", \"R\"]:\n",
    "        user1_choice = \"r\"\n",
    "    elif user1_choice in [\"Paper\", \"paper\", \"p\", \"P\"]:\n",
    "        user1_choice = \"p\"\n",
    "    elif user1_choice in [\"Scissors\", \"scissors\", \"s\", \"S\"]:\n",
    "        user1_choice = \"s\"\n",
    "    else:\n",
    "        print(\"I don't understand, try again.\")\n",
    "        Choose_Option()\n",
    "    return user1_choice\n",
    "\n",
    "def Pick_Option():\n",
    "    user2_choice = input(\"Choose Rock, Paper or Scissors: \")\n",
    "    if user2_choice in [\"Rock\", \"rock\", \"r\", \"R\"]:\n",
    "        user2_choice = \"r\"\n",
    "    elif user2_choice in [\"Paper\", \"paper\", \"p\", \"P\"]:\n",
    "        user2_choice = \"p\"\n",
    "    elif user2_choice in [\"Scissors\", \"scissors\", \"s\", \"S\"]:\n",
    "        user2_choice = \"s\"\n",
    "    else:\n",
    "        print(\"I don't understand, try again.\")\n",
    "        Pick_Option()\n",
    "    return user2_choice\n",
    "\n",
    "while True:\n",
    "    print(\"\")\n",
    "    \n",
    "    user1_choice = Choose_Option()\n",
    "    user2_choice = Pick_Option()\n",
    "\n",
    "    print(\"\")\n",
    "    \n",
    "    if user1_choice == \"r\":\n",
    "        if user2_choice == \"r\":\n",
    "            print(user1 + \" choose rock. \"+ user2 +\"  choose rock. You both tied.\")\n",
    "        \n",
    "        elif user2_choice == \"p\":\n",
    "            print(user1 +\" choose rock. \"+ user2 +\"  choose paper. \"+ user2+ \" won. Congratulation !\")\n",
    "            player2_wins += 1\n",
    "            \n",
    "        elif user2_choice == \"s\":\n",
    "            print(user1+\" choose rock. \"+ user2 +\" choose scissors. \"+ user1 +\" won. Congratulation !\")\n",
    "            player1_wins += 1\n",
    "\n",
    "    elif user1_choice == \"p\":\n",
    "        if user2_choice == \"r\":\n",
    "            print(user1+\" choose paper. \"+ user2 +\" choose rock. \"+ user2 +\" won. Congratulation ! \")\n",
    "            player1_wins += 1\n",
    "        \n",
    "        elif user2_choice == \"p\":\n",
    "            print(user1+\" choose paper. \"+ user2 +\" choose paper. You both tied.\")\n",
    "            \n",
    "            \n",
    "        elif user2_choice == \"s\":\n",
    "            print(user1+\" choose paper. \"+ user2 +\" choose scissors. \"+ user2 +\" won. Congratulation !\")\n",
    "            player2_wins += 1\n",
    "\n",
    "    elif user1_choice == \"s\":\n",
    "        if user2_choice == \"r\":\n",
    "            print(user1+\" choose scissors. \"+ user2 +\" choose rock. \"+ user2 +\" won. Congratulation !\")\n",
    "            player2_wins += 1\n",
    "        \n",
    "        elif user2_choice == \"p\":\n",
    "            print(user1+\" choose scissors. \"+ user2 +\" choose paper. \"+ user2 +\" won. Congratulation !\")\n",
    "            player1_wins += 1\n",
    "            \n",
    "        elif user2_choice == \"s\":\n",
    "            print(user1+\" choose scissors. \"+ user2 +\" choose scissors. You both tied.\")\n",
    "\n",
    "    print(\"\")\n",
    "    print(user1+ \" wins: \" + str(player1_wins))\n",
    "    print(user2+ \" wins: \" + str(player2_wins))\n",
    "    print(\"\")\n",
    "    \n",
    "    user1_choice = input(\"Do you want to play again? (y/n)\")\n",
    "    if user1_choice in [\"Y\", \"y\", \"yes\", \"Yes\"]:\n",
    "        pass\n",
    "    elif user1_choice in [\"N\", \"n\", \"no\", \"No\"]:\n",
    "        break\n",
    "    else:\n",
    "        break"
   ]
  },
  {
   "cell_type": "markdown",
   "metadata": {},
   "source": [
    "### Inheritance Task"
   ]
  },
  {
   "cell_type": "code",
   "execution_count": null,
   "metadata": {},
   "outputs": [],
   "source": [
    "\n",
    "class student:\n",
    "    def __init__(self, name, occupation, city, skypeID)\n",
    "    \n",
    "    self.sName = name\n",
    "    self.sOccupation = occupation\n",
    "    self.sCity = city\n",
    "    self.sSkypeID = skypeID\n",
    "\n",
    "class researcher:\n",
    "    def __init__(self, name, occupation, city, subjects)\n",
    "    \n",
    "    self.sName = name\n",
    "    self.sOccupation = occupation\n",
    "    self.sCity = city\n",
    "    self.sSubjects = subjects\n",
    "\n",
    "class humans:\n",
    "    def __init__(self, name, city, profession)\n",
    "    \n",
    "    self.name = name\n",
    "    self.city = city\n",
    "    self.profession = profession\n",
    "    super().__init__(skypeID)\n",
    "\n",
    "def __str__(self):\n",
    "  return humans(name=+str(self.name)+,profession= +str(self.profession)+, city= +str(self.city)+, subjects= +str(self.subjects)+ ')'\n",
    "\n",
    "\n",
    " s = student('Frida Jacobsson', 'Student', 'MAH', 'frida96')\n",
    "\n",
    " print(s)\n",
    " print(s.__str__())\n",
    " r = researcher('Aleksander Fabijan', 'Reaseacher', 'MAH', 'DA712 & DA374')\n",
    "  print(r)\n",
    "\n",
    "\n"
   ]
  },
  {
   "cell_type": "code",
   "execution_count": null,
   "metadata": {},
   "outputs": [],
   "source": []
  },
  {
   "cell_type": "markdown",
   "metadata": {},
   "source": [
    "### Palindrome Task"
   ]
  },
  {
   "cell_type": "code",
   "execution_count": null,
   "metadata": {},
   "outputs": [],
   "source": [
    "\"\"\"TASK 05\"\"\"\n",
    "\n",
    "#palindrome task\n",
    "\n",
    "list=input('enter a string:')\n",
    "\n",
    "if (list==list[::-1]):\n",
    "    print (\"It is a palindrome\")\n",
    "else:\n",
    "   print(\"it is not palindrome\")"
   ]
  },
  {
   "cell_type": "code",
   "execution_count": null,
   "metadata": {},
   "outputs": [],
   "source": []
  },
  {
   "cell_type": "code",
   "execution_count": null,
   "metadata": {},
   "outputs": [],
   "source": [
    "#DATA TIME FORMAT \n",
    "\n",
    "import time\n",
    "import datetime\n",
    "print(\"Current date and time: \" , datetime.datetime.now())\n",
    "print(\"Current year: \", datetime.date.today().strftime(\"%Y\"))\n",
    "print(\"Month of year: \", datetime.date.today().strftime(\"%B\"))\n",
    "print(\"Week number of the year: \", datetime.date.today().strftime(\"%W\"))\n",
    "print(\"Weekday of the week: \", datetime.date.today().strftime(\"%w\"))\n",
    "print(\"Day of year: \", datetime.date.today().strftime(\"%j\"))\n",
    "print(\"Day of the month : \", datetime.date.today().strftime(\"%d\"))\n",
    "print(\"Day of week: \", datetime.date.today().strftime(\"%A\"))\n",
    "\n"
   ]
  },
  {
   "cell_type": "code",
   "execution_count": null,
   "metadata": {},
   "outputs": [],
   "source": []
  },
  {
   "cell_type": "code",
   "execution_count": null,
   "metadata": {},
   "outputs": [],
   "source": [
    "#Current date subtraction\n",
    "\n",
    "dt = date.today() - timedelta(30)\n",
    "print('Current Date :',date.today())\n",
    "print('30 days before Current Date :',dt)\n",
    "\n"
   ]
  },
  {
   "cell_type": "code",
   "execution_count": null,
   "metadata": {},
   "outputs": [],
   "source": [
    "#Matching text patterns\n",
    "\n",
    "import re\n",
    "def text_match(text):\n",
    "        patterns = '^[a-zA-Z0-9_]*$'\n",
    "         \n",
    "        \n",
    "        if re.search(patterns,  text):\n",
    "                return 'Found a match!'\n",
    "                \n",
    "        else:\n",
    "                return('Not matched!')\n",
    "print(text_match(\"\"))"
   ]
  }
 ],
 "metadata": {
  "kernelspec": {
   "display_name": "Python 3",
   "language": "python",
   "name": "python3"
  },
  "language_info": {
   "codemirror_mode": {
    "name": "ipython",
    "version": 3
   },
   "file_extension": ".py",
   "mimetype": "text/x-python",
   "name": "python",
   "nbconvert_exporter": "python",
   "pygments_lexer": "ipython3",
   "version": "3.7.6"
  }
 },
 "nbformat": 4,
 "nbformat_minor": 4
}
