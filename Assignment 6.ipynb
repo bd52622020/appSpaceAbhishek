{
 "cells": [
  {
   "cell_type": "markdown",
   "metadata": {},
   "source": [
    "# Students name in alphabetical order"
   ]
  },
  {
   "cell_type": "code",
   "execution_count": 8,
   "metadata": {},
   "outputs": [],
   "source": [
    "dict = {'Abhishek', 'Rahul', 'Adam','Jones','Mary'}"
   ]
  },
  {
   "cell_type": "code",
   "execution_count": 7,
   "metadata": {},
   "outputs": [
    {
     "name": "stdout",
     "output_type": "stream",
     "text": [
      "\n",
      "Names in alphabetical order\n",
      "['Abhishek', 'Adam', 'Jones', 'Mary', 'Rahul']\n"
     ]
    }
   ],
   "source": [
    "print(\"\\nNames in alphabetical order\")\n",
    "x =sorted(dict)\n",
    "print(x)"
   ]
  },
  {
   "cell_type": "markdown",
   "metadata": {},
   "source": [
    "# Pattern print with loop"
   ]
  },
  {
   "cell_type": "code",
   "execution_count": null,
   "metadata": {},
   "outputs": [],
   "source": []
  },
  {
   "cell_type": "code",
   "execution_count": 16,
   "metadata": {},
   "outputs": [
    {
     "name": "stdout",
     "output_type": "stream",
     "text": [
      "\n",
      "*\n",
      "**\n",
      "***\n",
      "****\n",
      "*****\n",
      "******\n",
      "*******\n",
      "********\n",
      "*********\n",
      "**********\n",
      "*********\n",
      "********\n",
      "*******\n",
      "******\n",
      "*****\n",
      "****\n",
      "***\n",
      "**\n",
      "*\n"
     ]
    }
   ],
   "source": [
    "n=10;\n",
    "for i in range(n):\n",
    "    for j in range(i):\n",
    "        print('*',end=\"\")\n",
    "    print('')\n",
    "    \n",
    "for i in range(n,0, -1):\n",
    "    for j in range(i):\n",
    "        print('*', end=\"\")\n",
    "    print('')"
   ]
  },
  {
   "cell_type": "markdown",
   "metadata": {},
   "source": [
    "# Python Class with string method"
   ]
  },
  {
   "cell_type": "code",
   "execution_count": null,
   "metadata": {},
   "outputs": [],
   "source": []
  },
  {
   "cell_type": "code",
   "execution_count": null,
   "metadata": {},
   "outputs": [],
   "source": [
    "class IOString():\n",
    "    def __init__(self):\n",
    "        self.strl = \"\"\n",
    "    def get_string(self):\n",
    "        self.strl = input()\n",
    "        \n",
    "    def print_String(self):\n",
    "        print(self.strl.upper())\n",
    "        \n",
    "strl = IOString()\n",
    "strl.get_string()\n",
    "strl.print_String()"
   ]
  },
  {
   "cell_type": "code",
   "execution_count": null,
   "metadata": {},
   "outputs": [],
   "source": []
  },
  {
   "cell_type": "markdown",
   "metadata": {},
   "source": [
    "# Password Validation Check"
   ]
  },
  {
   "cell_type": "code",
   "execution_count": null,
   "metadata": {},
   "outputs": [
    {
     "name": "stdout",
     "output_type": "stream",
     "text": [
      "Rules of the password generator: At least 1 letter between [a-z] and 1 letter between [A-Z]. At least 1 number between [0-9]. At least 1 character from [$#@]. Minimum length 6 characters. Maximum length 16 characters.\n"
     ]
    }
   ],
   "source": [
    "\n",
    "import re \n",
    " \n",
    "print(\"Rules of the password generator: At least 1 letter between [a-z] and 1 letter between [A-Z]. At least 1 number between [0-9]. At least 1 character from [$#@]. Minimum length 6 characters. Maximum length 16 characters.\")\n",
    "\n",
    "\n",
    "p = input(\"Enter your password: \") \n",
    "\n",
    "x = True \n",
    "while x:\n",
    "  \n",
    "  if (len(p) <6 or len(p) > 16):\n",
    "    break\n",
    "  \n",
    "  elif not re.search(\"[a-z]\",p):\n",
    "    break\n",
    "  \n",
    "  elif not re.search(\"[A-Z]\",p):\n",
    "    break\n",
    "  \n",
    "  elif not re.search(\"[0-9]\",p):\n",
    "    break\n",
    "  \n",
    "  elif not re.search(\"[$#@]\",p):\n",
    "    break\n",
    "  \n",
    "  else:\n",
    "    print (\"Valid Password:\" \n",
    "    )\n",
    "    print (p.replace(p,'*'* len(p))) \n",
    "    x = False\n",
    "    break \n",
    "if x:\n",
    "    print (\"This is not a valid password\")"
   ]
  },
  {
   "cell_type": "code",
   "execution_count": null,
   "metadata": {},
   "outputs": [],
   "source": []
  }
 ],
 "metadata": {
  "kernelspec": {
   "display_name": "Python 3",
   "language": "python",
   "name": "python3"
  },
  "language_info": {
   "codemirror_mode": {
    "name": "ipython",
    "version": 3
   },
   "file_extension": ".py",
   "mimetype": "text/x-python",
   "name": "python",
   "nbconvert_exporter": "python",
   "pygments_lexer": "ipython3",
   "version": "3.7.6"
  }
 },
 "nbformat": 4,
 "nbformat_minor": 4
}
