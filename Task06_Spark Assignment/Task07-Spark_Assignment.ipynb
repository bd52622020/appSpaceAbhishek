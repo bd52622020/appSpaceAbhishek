{
 "cells": [
  {
   "cell_type": "code",
   "execution_count": 1,
   "metadata": {},
   "outputs": [],
   "source": [
    "from pyspark import SparkContext\n",
    "from pyspark import SparkConf\n",
    "from datetime import datetime\n",
    "from pyspark.sql import SQLContext\n",
    "from itertools import chain\n",
    "import pyspark.sql.functions as F\n",
    "from pyspark.sql.types import *\n",
    "from pyspark.sql.functions import *\n",
    "from pyspark.sql.types import Row"
   ]
  },
  {
   "cell_type": "code",
   "execution_count": 3,
   "metadata": {},
   "outputs": [],
   "source": [
    "ratings = sc.textFile(\"u.data\").map(lambda line: line.split(\"\\t\"))\n",
    "movies = sc.textFile(\"u.item\").map(lambda line: line.split(\"|\"))\n",
    "users = sc.textFile(\"u.user\").map(lambda line: line.split(\"|\"))"
   ]
  },
  {
   "cell_type": "code",
   "execution_count": null,
   "metadata": {},
   "outputs": [],
   "source": [
    "ratings_data = sc.textFile(\"u.data\")\n",
    "movies_data = sc.textFile(\"u.item\")\n",
    "users_data = sc.textFile(\"u.user\")"
   ]
  },
  {
   "cell_type": "code",
   "execution_count": null,
   "metadata": {},
   "outputs": [],
   "source": [
    "r_Schema= StructType([StructField(\"user id\", StringType(), True),\n",
    "                            StructField(\"item id\", StringType(), True),\n",
    "                            StructField(\"rating\", StringType(), True),\n",
    "                            StructField(\"timestamp\", StringType(), True)])\n",
    "m_Schema= StructType([StructField(\"movie id\", StringType(), True),\n",
    "                           StructField(\"movie title\", StringType(), True),\n",
    "                           StructField(\"release date\", StringType(), True),\n",
    "                           StructField(\"video release date\", StringType(), True),\n",
    "                           StructField(\"IMBd URL\", StringType(), True),\n",
    "                           StructField(\"unknown\", StringType(), True),\n",
    "                           StructField(\"action\", StringType(), True),\n",
    "                           StructField(\"adventure\", StringType(), True),\n",
    "                           StructField(\"animation\", StringType(), True),\n",
    "                           StructField(\"Childen's\", StringType(), True),\n",
    "                           StructField(\"comedy\", StringType(), True),\n",
    "                           StructField(\"crime\", StringType(), True),\n",
    "                           StructField(\"documentary\", StringType(), True),\n",
    "                           StructField(\"drama\", StringType(), True),\n",
    "                           StructField(\"fantasy\", StringType(), True),\n",
    "                           StructField(\"film-noir\", StringType(), True),\n",
    "                           StructField(\"horror\", StringType(), True),\n",
    "                           StructField(\"musical\", StringType(), True),\n",
    "                           StructField(\"mystery\", StringType(), True),\n",
    "                           StructField(\"romance\", StringType(), True),\n",
    "                           StructField(\"sci-fi\", StringType(), True),\n",
    "                           StructField(\"thriller\", StringType(), True),\n",
    "                           StructField(\"war\", StringType(), True),\n",
    "                           StructField(\"western\", StringType(), True)])\n",
    "u_Schema= StructType([StructField(\"user id\", StringType(), True),\n",
    "                          StructField(\"age\", StringType(), True),\n",
    "                          StructField(\"gender\", StringType(), True),\n",
    "                          StructField(\"occupation\", StringType(), True),\n",
    "                          StructField(\"zip code\", StringType(), True)])"
   ]
  },
  {
   "cell_type": "code",
   "execution_count": null,
   "metadata": {},
   "outputs": [],
   "source": [
    "df_ratings = spark.createDataFrame(ratings, r_Schema).alias(\"df_ratings\")\n",
    "df_movies = spark.createDataFrame(movies, m_Schema)\n",
    "df_users = spark.createDataFrame(users, u_Schema)"
   ]
  },
  {
   "cell_type": "code",
   "execution_count": 3,
   "metadata": {},
   "outputs": [],
   "source": [
    "\n",
    "#This function returns a movie names dict.\n",
    "def loadMovieNames():\n",
    "    movieNames = {}\n",
    "    with open(\"u.item\",encoding = \"ISO-8859-1\") as f:\n",
    "        for line in f: # for each line\n",
    "            fields = line.split('|') #turn line into list of items\n",
    "            movieNames[int(fields[0])] = fields[1] #adds name to dict with movie id as the name's key.\n",
    "    return movieNames\n",
    "def parse_movie_genres(line):\n",
    "    row = line.split(\"|\")\n",
    "    return Row(movie_id=int(row[0]), movie_title=row[1], uknown=int(row[5]), action=int(row[6]), adventure=int(row[7]), animation=int(row[8]), children=int(row[9]), comedy=int(row[10]), crime=int(row[11]), documentary=int(row[12]), fantasy=int(row[13]), film_noir=int(row[14]), horror=int(row[15]), musical=int(row[16]), mystery=int(row[17]), romance=int(row[18]), sci_fi=int(row[19]), thriller=int(row[20]), war=int(row[21]), western=int(row[22]))\n"
   ]
  },
  {
   "cell_type": "code",
   "execution_count": 4,
   "metadata": {},
   "outputs": [],
   "source": [
    "# def parseInput(line):\n",
    "#     fields = line.split()\n",
    "#     return (int(fields[1]), (float(fields[2]), 1.0))\n"
   ]
  },
  {
   "cell_type": "code",
   "execution_count": 4,
   "metadata": {},
   "outputs": [],
   "source": [
    "# if __name__ == \"__main__\":\n",
    "#     # The main script - create our SparkContext\n",
    "#     conf = SparkConf().setAppName(\"WorstMovies\")\n",
    "#     sc = SparkContext.getOrCreate();"
   ]
  },
  {
   "cell_type": "markdown",
   "metadata": {},
   "source": [
    "# Top 10 Movies"
   ]
  },
  {
   "cell_type": "markdown",
   "metadata": {},
   "source": [
    "movieNames = loadMovieNames()\n",
    "df = df_ratings.withColumn(\"counter\", lit(1))\n",
    "df2 = df.withColumn(\"user id\",df[\"user id\"].cast(IntegerType()))\n",
    "df3 = df2.groupBy(\"user id\").sum(\"counter\")\n",
    "df4 = df3.sort(\"sum(counter)\", ascending=False).take(10)\n",
    "for result in df4:\n",
    "    print(movieNames[result[0]], result[1])"
   ]
  },
  {
   "cell_type": "markdown",
   "metadata": {},
   "source": [
    "# Rating by Genre"
   ]
  },
  {
   "cell_type": "code",
   "execution_count": null,
   "metadata": {},
   "outputs": [],
   "source": [
    "df = movies_data.map(parse_movie_genres)\n",
    "df2 = spark.createDataFrame(df).alias(\"movies_genres\")\n",
    "df3 = df2.join(df_ratings, df2.movie_id == df_ratings[\"item id\"])\n",
    "df3.groupBy().sum().take(10)"
   ]
  },
  {
   "cell_type": "markdown",
   "metadata": {},
   "source": [
    "# Oldest movie with 5 rating"
   ]
  },
  {
   "cell_type": "code",
   "execution_count": null,
   "metadata": {},
   "outputs": [],
   "source": [
    "df = df_movies[[\"movie id\", \"movie title\", \"release date\"]]\n",
    "df2 = df.withColumn(\"release date\",to_date(df[\"release date\"], \"dd-MMM-yyyy\"))\n",
    "rating = df_ratings[[\"item id\", \"rating\"]].filter(col(\"rating\") == 5)\n",
    "df3 = df2.join(rating, rating[\"item id\"] == df3[\"movie id\"])\n",
    "df4 = df3.orderBy(\"release date\", ascending=True).where(df3[\"release date\"].isNotNull()).take(1)\n",
    "df4"
   ]
  },
  {
   "cell_type": "markdown",
   "metadata": {},
   "source": [
    "# Genre with top 10 movies"
   ]
  },
  {
   "cell_type": "code",
   "execution_count": null,
   "metadata": {},
   "outputs": [],
   "source": [
    "df = df_ratings.withColumn(\"counter\", lit(1))\n",
    "df2 = df.withColumn(\"user id\",df[\"user id\"].cast(IntegerType()))\n",
    "df3 = df2.groupBy(\"user id\").sum(\"counter\")\n",
    "df4 = df3.sort(\"sum(counter)\", ascending=False).take(10)"
   ]
  },
  {
   "cell_type": "code",
   "execution_count": null,
   "metadata": {},
   "outputs": [],
   "source": [
    "df4"
   ]
  }
 ],
 "metadata": {
  "kernelspec": {
   "display_name": "Python 3",
   "language": "python",
   "name": "python3"
  },
  "language_info": {
   "codemirror_mode": {
    "name": "ipython",
    "version": 3
   },
   "file_extension": ".py",
   "mimetype": "text/x-python",
   "name": "python",
   "nbconvert_exporter": "python",
   "pygments_lexer": "ipython3",
   "version": "3.7.6"
  }
 },
 "nbformat": 4,
 "nbformat_minor": 4
}
